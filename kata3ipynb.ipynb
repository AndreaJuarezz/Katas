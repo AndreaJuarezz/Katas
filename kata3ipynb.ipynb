{
 "cells": [
  {
   "cell_type": "markdown",
   "metadata": {},
   "source": [
    "escribirás una lógica condicional que imprima una advertencia si un asteroide se acerca a la Tierra demasiado rápido."
   ]
  },
  {
   "cell_type": "code",
   "execution_count": 17,
   "metadata": {},
   "outputs": [
    {
     "name": "stdout",
     "output_type": "stream",
     "text": [
      "advertencia! peligro de asteroide\n"
     ]
    }
   ],
   "source": [
    "asteroide = 49\n",
    "if asteroide > 25:\n",
    "    print (\"advertencia! peligro de asteroide\")\n",
    "else:\n",
    "    print (\"No hay nada por preocuparse\")"
   ]
  },
  {
   "cell_type": "markdown",
   "metadata": {},
   "source": [
    "Escribe la lógica condicional que usa declaraciones if, else, y elif para alertar a las personas de todo el mundo que deben buscar un asteroide en el cielo."
   ]
  },
  {
   "cell_type": "code",
   "execution_count": 16,
   "metadata": {},
   "outputs": [
    {
     "name": "stdout",
     "output_type": "stream",
     "text": [
      "Aun no se alcanza a ver nada :c\n"
     ]
    }
   ],
   "source": [
    "asteroide = 19\n",
    "if asteroide > 20:\n",
    "    print(\"salga, se ve el rayo de luz en el cielo\")\n",
    "elif asteroide == 20:\n",
    "    print(\"salga, vaya a mirar arriba\")\n",
    "else:\n",
    "    print (\"Aún no se alcanza a ver nada :c\")"
   ]
  },
  {
   "cell_type": "markdown",
   "metadata": {},
   "source": [
    "Escribe un programa que emita la advertencia o información correcta a la gente de la Tierra, según la velocidad y el tamaño de un asteroide. "
   ]
  },
  {
   "cell_type": "code",
   "execution_count": 22,
   "metadata": {},
   "outputs": [
    {
     "name": "stdout",
     "output_type": "stream",
     "text": [
      "salga, se ve el rayo de luz en el cielo\n"
     ]
    }
   ],
   "source": [
    "asteroide_velocidad = 26\n",
    "tamaño_del_asteroide = 21\n",
    "if asteroide_velocidad > 25 and tamaño_del_asteroide > 25:\n",
    "    print (\"advertencia de asteroide\")\n",
    "elif asteroide_velocidad >= 20:\n",
    "    print (\"salga, se ve el rayo de luz en el cielo\")\n",
    "elif tamaño_del_asteroide < 25:\n",
    "    print(\"No pasa nada\")\n",
    "else: \n",
    "    print(\"Todo bien, no pasa nada\")"
   ]
  }
 ],
 "metadata": {
  "interpreter": {
   "hash": "e23409980b90cd91a3956cc0ae61522ecbd6a9e94f8dbeee1bb2d0a61c5de1b1"
  },
  "kernelspec": {
   "display_name": "Python 3.10.2 64-bit",
   "language": "python",
   "name": "python3"
  },
  "language_info": {
   "codemirror_mode": {
    "name": "ipython",
    "version": 3
   },
   "file_extension": ".py",
   "mimetype": "text/x-python",
   "name": "python",
   "nbconvert_exporter": "python",
   "pygments_lexer": "ipython3",
   "version": "3.10.2"
  },
  "orig_nbformat": 4
 },
 "nbformat": 4,
 "nbformat_minor": 2
}
