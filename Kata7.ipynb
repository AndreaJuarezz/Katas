{
 "cells": [
  {
   "cell_type": "markdown",
   "metadata": {},
   "source": [
    "comienza agregando dos variables, una para la entrada del usuario"
   ]
  },
  {
   "cell_type": "code",
   "execution_count": 10,
   "metadata": {},
   "outputs": [],
   "source": [
    "new_planet = ''\n",
    "planets = []"
   ]
  },
  {
   "cell_type": "markdown",
   "metadata": {},
   "source": [
    "Comenzando con las variables que acabas de crear, crearás un ciclo while"
   ]
  },
  {
   "cell_type": "code",
   "execution_count": 11,
   "metadata": {},
   "outputs": [],
   "source": [
    "while new_planet.lower() != 'done':\n",
    "    #comprobando si hay nombre de planeta\n",
    "    if new_planet:\n",
    "        planets.append(new_planet)\n",
    "    new_planet = input('ingrese un nuevo planeta o escriba done si ha terminado')"
   ]
  },
  {
   "cell_type": "markdown",
   "metadata": {},
   "source": [
    "Ejercicio 2: Creación de un ciclo \"for\""
   ]
  },
  {
   "cell_type": "markdown",
   "metadata": {},
   "source": [
    "Mostrar la lista de los planetas"
   ]
  },
  {
   "cell_type": "code",
   "execution_count": 8,
   "metadata": {},
   "outputs": [
    {
     "name": "stdout",
     "output_type": "stream",
     "text": [
      "Mars\n"
     ]
    }
   ],
   "source": [
    "for planet_print in planets:\n",
    "    print(planet_print)"
   ]
  }
 ],
 "metadata": {
  "interpreter": {
   "hash": "e23409980b90cd91a3956cc0ae61522ecbd6a9e94f8dbeee1bb2d0a61c5de1b1"
  },
  "kernelspec": {
   "display_name": "Python 3.10.2 64-bit",
   "language": "python",
   "name": "python3"
  },
  "language_info": {
   "codemirror_mode": {
    "name": "ipython",
    "version": 3
   },
   "file_extension": ".py",
   "mimetype": "text/x-python",
   "name": "python",
   "nbconvert_exporter": "python",
   "pygments_lexer": "ipython3",
   "version": "3.10.2"
  },
  "orig_nbformat": 4
 },
 "nbformat": 4,
 "nbformat_minor": 2
}
