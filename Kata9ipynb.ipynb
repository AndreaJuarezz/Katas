{
 "cells": [
  {
   "cell_type": "markdown",
   "metadata": {},
   "source": [
    "Comienza por crear una función que necesite tres lecturas de combustible y devuelva un informe"
   ]
  },
  {
   "cell_type": "code",
   "execution_count": 10,
   "metadata": {},
   "outputs": [],
   "source": [
    "def generate_report(main_tank, external_tank, hydrogen_tank):\n",
    "    total_average = (main_tank + external_tank + hydrogen_tank) / 3\n",
    "    return f\"\"\"Fuel Report:\n",
    "    Total Average: {total_average}%\n",
    "    Main tank: {main_tank}%\n",
    "    External tank: {external_tank}%\n",
    "    Hydrogen tank: {hydrogen_tank}% \n",
    "    \"\"\""
   ]
  },
  {
   "cell_type": "code",
   "execution_count": 17,
   "metadata": {},
   "outputs": [
    {
     "name": "stdout",
     "output_type": "stream",
     "text": [
      "Fuel Report:\n",
      "    Total Average: 61.666666666666664%\n",
      "    Main tank: 90%\n",
      "    External tank: 60%\n",
      "    Hydrogen tank: 35% \n",
      "    \n"
     ]
    }
   ],
   "source": [
    "print(generate_report(90, 60, 35))"
   ]
  },
  {
   "cell_type": "markdown",
   "metadata": {},
   "source": [
    "Función promedio "
   ]
  },
  {
   "cell_type": "code",
   "execution_count": 12,
   "metadata": {},
   "outputs": [
    {
     "data": {
      "text/plain": [
       "82.0"
      ]
     },
     "execution_count": 12,
     "metadata": {},
     "output_type": "execute_result"
    }
   ],
   "source": [
    "def average(values):\n",
    "    total = sum(values)\n",
    "    number_of_items = len(values)\n",
    "    return total / number_of_items\n",
    "average([80, 85, 81]) "
   ]
  },
  {
   "cell_type": "code",
   "execution_count": 18,
   "metadata": {},
   "outputs": [
    {
     "name": "stdout",
     "output_type": "stream",
     "text": [
      "Fuel Report:\n",
      "    Total Average: 53.0%\n",
      "    Main tank: 18%\n",
      "    External tank: 89%\n",
      "    Hydrogen tank: 52% \n",
      "    \n"
     ]
    }
   ],
   "source": [
    "def generate_report(main_tank, external_tank, hydrogen_tank):\n",
    "    return f\"\"\"Fuel Report:\n",
    "    Total Average: {average([main_tank, external_tank, hydrogen_tank])}%\n",
    "    Main tank: {main_tank}%\n",
    "    External tank: {external_tank}%\n",
    "    Hydrogen tank: {hydrogen_tank}% \n",
    "    \"\"\"\n",
    "print(generate_report(18, 89, 52))"
   ]
  },
  {
   "cell_type": "markdown",
   "metadata": {},
   "source": [
    "Comienza por crear una función que creará un informe preciso de la misión:"
   ]
  },
  {
   "cell_type": "code",
   "execution_count": 14,
   "metadata": {},
   "outputs": [
    {
     "name": "stdout",
     "output_type": "stream",
     "text": [
      "\n",
      "    Mission to Moon\n",
      "    Total travel time: 65 minutes\n",
      "    Total fuel left: 500000 gallons\n",
      "    \n"
     ]
    }
   ],
   "source": [
    "def mission_report(pre_launch_time, flight_time, destination, external_tank, main_tank):\n",
    "    return f\"\"\"\n",
    "    Mission to {destination}\n",
    "    Total travel time: {pre_launch_time + flight_time} minutes\n",
    "    Total fuel left: {external_tank + main_tank} gallons\n",
    "    \"\"\"\n",
    "\n",
    "print(mission_report(14, 51, \"Moon\", 200000, 300000))"
   ]
  },
  {
   "cell_type": "markdown",
   "metadata": {},
   "source": [
    "Escribe tu nueva función de reporte considerando lo anterior"
   ]
  },
  {
   "cell_type": "code",
   "execution_count": 15,
   "metadata": {},
   "outputs": [
    {
     "name": "stdout",
     "output_type": "stream",
     "text": [
      "\n",
      "    Mission to Moon\n",
      "    Total travel time: 76 minutes\n",
      "    Total fuel left: 500000\n",
      "    \n"
     ]
    }
   ],
   "source": [
    "def mission_report(destination, *minutes, **fuel_reservoirs):\n",
    "    return f\"\"\"\n",
    "    Mission to {destination}\n",
    "    Total travel time: {sum(minutes)} minutes\n",
    "    Total fuel left: {sum(fuel_reservoirs.values())}\n",
    "    \"\"\"\n",
    "\n",
    "print(mission_report(\"Moon\", 10, 15, 51, main=300000, external=200000))"
   ]
  },
  {
   "cell_type": "markdown",
   "metadata": {},
   "source": [
    "actualiza la función para usar el nombre de cada tanque en el informe:"
   ]
  },
  {
   "cell_type": "code",
   "execution_count": 16,
   "metadata": {},
   "outputs": [
    {
     "name": "stdout",
     "output_type": "stream",
     "text": [
      "\n",
      "    Mission to Moon\n",
      "    Total travel time: 74 minutes\n",
      "    Total fuel left: 500000\n",
      "    main tank --> 300000 gallons left\n",
      "external tank --> 200000 gallons left\n",
      "\n"
     ]
    }
   ],
   "source": [
    "def mission_report(destination, *minutes, **fuel_reservoirs):\n",
    "    main_report = f\"\"\"\n",
    "    Mission to {destination}\n",
    "    Total travel time: {sum(minutes)} minutes\n",
    "    Total fuel left: {sum(fuel_reservoirs.values())}\n",
    "    \"\"\"\n",
    "    for tank_name, gallons in fuel_reservoirs.items():\n",
    "        main_report += f\"{tank_name} tank --> {gallons} gallons left\\n\"\n",
    "    return main_report\n",
    "\n",
    "print(mission_report(\"Moon\", 8, 11, 55, main=300000, external=200000))"
   ]
  }
 ],
 "metadata": {
  "interpreter": {
   "hash": "e23409980b90cd91a3956cc0ae61522ecbd6a9e94f8dbeee1bb2d0a61c5de1b1"
  },
  "kernelspec": {
   "display_name": "Python 3.10.2 64-bit",
   "language": "python",
   "name": "python3"
  },
  "language_info": {
   "codemirror_mode": {
    "name": "ipython",
    "version": 3
   },
   "file_extension": ".py",
   "mimetype": "text/x-python",
   "name": "python",
   "nbconvert_exporter": "python",
   "pygments_lexer": "ipython3",
   "version": "3.10.2"
  },
  "orig_nbformat": 4
 },
 "nbformat": 4,
 "nbformat_minor": 2
}
